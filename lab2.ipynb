{
 "cells": [
  {
   "cell_type": "markdown",
   "id": "c15c1e88-5099-4547-be46-7f19257c7867",
   "metadata": {},
   "source": [
    "lab2 numpy pandas và matplotlib nang cao"
   ]
  },
  {
   "cell_type": "markdown",
   "id": "23dd2043-c5ff-4bfc-8382-83d718d90bc7",
   "metadata": {},
   "source": [
    "1.numpy"
   ]
  },
  {
   "cell_type": "code",
   "execution_count": 2,
   "id": "20247349-4b5c-46b3-a105-b9b7da9e6e20",
   "metadata": {},
   "outputs": [
    {
     "data": {
      "text/plain": [
       "np.int64(2)"
      ]
     },
     "execution_count": 2,
     "metadata": {},
     "output_type": "execute_result"
    }
   ],
   "source": [
    "import numpy as np \n",
    "x= np.array ([1,2,3,4,5,6,7,8,])\n",
    "#lấy số 2:\n",
    "x[1]\n"
   ]
  },
  {
   "cell_type": "code",
   "execution_count": 6,
   "id": "dfd2a296-27f0-4f6a-a8a5-51acdf15f074",
   "metadata": {},
   "outputs": [
    {
     "data": {
      "text/plain": [
       "array([1, 2, 3])"
      ]
     },
     "execution_count": 6,
     "metadata": {},
     "output_type": "execute_result"
    }
   ],
   "source": [
    "#lấy từ 1 tới 3\n",
    "x[:3]\n"
   ]
  },
  {
   "cell_type": "code",
   "execution_count": 7,
   "id": "e4d31c3f-a62d-4302-8b8b-90f753ada570",
   "metadata": {},
   "outputs": [
    {
     "data": {
      "text/plain": [
       "array([3, 4, 5, 6, 7, 8])"
      ]
     },
     "execution_count": 7,
     "metadata": {},
     "output_type": "execute_result"
    }
   ],
   "source": [
    "#lấy từ 3 tới 8\n",
    "x[2:8]\n",
    "x[2:]\n"
   ]
  },
  {
   "cell_type": "code",
   "execution_count": 11,
   "id": "66b99181-c54d-4b73-9fb4-c54e02a45d96",
   "metadata": {},
   "outputs": [
    {
     "data": {
      "text/plain": [
       "array([3, 5])"
      ]
     },
     "execution_count": 11,
     "metadata": {},
     "output_type": "execute_result"
    }
   ],
   "source": [
    "#lay index 2,4\n",
    "x[[2,4]]\n",
    "\n"
   ]
  },
  {
   "cell_type": "code",
   "execution_count": 12,
   "id": "f0a6abbf-976f-4622-a250-120fbfde135f",
   "metadata": {},
   "outputs": [
    {
     "data": {
      "text/plain": [
       "array([[1, 2],\n",
       "       [3, 4],\n",
       "       [5, 6]])"
      ]
     },
     "execution_count": 12,
     "metadata": {},
     "output_type": "execute_result"
    }
   ],
   "source": [
    "data=[[1,2],[3,4],[5,6]]\n",
    "mang=np.array(data)\n",
    "mang"
   ]
  },
  {
   "cell_type": "code",
   "execution_count": 13,
   "id": "d4bbcee0-8aa5-4a30-aa34-502e8c998217",
   "metadata": {},
   "outputs": [
    {
     "data": {
      "text/plain": [
       "np.int64(2)"
      ]
     },
     "execution_count": 13,
     "metadata": {},
     "output_type": "execute_result"
    }
   ],
   "source": [
    "mang[0,1]"
   ]
  },
  {
   "cell_type": "code",
   "execution_count": 15,
   "id": "4be6b403-05cd-48b7-abd9-d5dccec0da7d",
   "metadata": {},
   "outputs": [
    {
     "data": {
      "text/plain": [
       "np.int64(6)"
      ]
     },
     "execution_count": 15,
     "metadata": {},
     "output_type": "execute_result"
    }
   ],
   "source": [
    "mang[-1,1]\n",
    "mang[2,1]"
   ]
  },
  {
   "cell_type": "code",
   "execution_count": 31,
   "id": "8a0e0aea-d857-472a-89bd-b048c44b748b",
   "metadata": {},
   "outputs": [
    {
     "data": {
      "text/plain": [
       "array([[3, 4],\n",
       "       [5, 6]])"
      ]
     },
     "execution_count": 31,
     "metadata": {},
     "output_type": "execute_result"
    }
   ],
   "source": [
    "#lay 3,4,5,6\n",
    "mang[1:, :]\n",
    "mang[1:]\n",
    "mang[[1,2]]\n",
    "mang[1:3]\n",
    "mang[-2:]\n"
   ]
  },
  {
   "cell_type": "code",
   "execution_count": 32,
   "id": "9222201e-1bd1-4045-87ad-268395b3a682",
   "metadata": {},
   "outputs": [
    {
     "data": {
      "text/plain": [
       "array([1, 5])"
      ]
     },
     "execution_count": 32,
     "metadata": {},
     "output_type": "execute_result"
    }
   ],
   "source": [
    "#lay 1,3,5\n",
    "mang[:,0]\n",
    "mang[[0,2],0]"
   ]
  },
  {
   "cell_type": "code",
   "execution_count": 33,
   "id": "e1845b52-f87d-4760-be4d-b39034729bbf",
   "metadata": {},
   "outputs": [
    {
     "data": {
      "text/plain": [
       "array([1, 5])"
      ]
     },
     "execution_count": 33,
     "metadata": {},
     "output_type": "execute_result"
    }
   ],
   "source": [
    "#lay1 va 5 theo fortmat start end step\n",
    "mang[::2,0]\n",
    "mang[0::2,0]"
   ]
  },
  {
   "cell_type": "code",
   "execution_count": 35,
   "id": "71f1e9de-14d1-4cb9-bced-369e9add4399",
   "metadata": {},
   "outputs": [
    {
     "data": {
      "text/plain": [
       "array([[ 1,  2,  3,  4],\n",
       "       [ 5,  6,  7,  8],\n",
       "       [ 9, 10, 11, 12],\n",
       "       [13, 14, 15, 16]])"
      ]
     },
     "execution_count": 35,
     "metadata": {},
     "output_type": "execute_result"
    }
   ],
   "source": [
    "x=[\n",
    "    [1,2,3,4],\n",
    "    [5,6,7,8],\n",
    "    [9,10,11,12],\n",
    "    [13,14,15,16]\n",
    "]\n",
    "y=np.array(x)\n",
    "y\n"
   ]
  },
  {
   "cell_type": "code",
   "execution_count": 42,
   "id": "174efb99-de04-477b-b8b7-a780446ca8e4",
   "metadata": {},
   "outputs": [
    {
     "data": {
      "text/plain": [
       "array([ 2,  6, 10, 14])"
      ]
     },
     "execution_count": 42,
     "metadata": {},
     "output_type": "execute_result"
    }
   ],
   "source": [
    "y[:,1]"
   ]
  },
  {
   "cell_type": "code",
   "execution_count": 44,
   "id": "768b983c-b7b1-48f9-a29f-423ec9737927",
   "metadata": {},
   "outputs": [
    {
     "data": {
      "text/plain": [
       "array([ 4,  7, 10])"
      ]
     },
     "execution_count": 44,
     "metadata": {},
     "output_type": "execute_result"
    }
   ],
   "source": [
    "#lay 4,7,10\n",
    "y[[0, 1, 2], [3, 2, 1]]"
   ]
  },
  {
   "cell_type": "code",
   "execution_count": 59,
   "id": "6f82c7b8-18f8-400b-bc44-27be04d1162c",
   "metadata": {},
   "outputs": [
    {
     "data": {
      "text/plain": [
       "array([16, 15, 14, 13])"
      ]
     },
     "execution_count": 59,
     "metadata": {},
     "output_type": "execute_result"
    }
   ],
   "source": [
    "#lay 16, 15, 14, 13\n",
    "y[3, :: -1]\n",
    "y[-1 ,-1::-1]\n"
   ]
  },
  {
   "cell_type": "markdown",
   "id": "727dbe48-3a4f-4bf6-a097-50e5fa464d1d",
   "metadata": {},
   "source": [
    "bài tập tết về nhà :\\\n",
    "cho ma trận =x=[\\\n",
    "    [99,99,99],\\\n",
    "    [99,99,99],\\\n",
    "    [99,99,99]\\\n",
    "]\\\n",
    "giả sử 0=o và 1 là x\\\n",
    "nhận đầu vào từ phía x và o luân phiên \\\n",
    "cho một cặp chỉ số, nếu phía x nhập ((0,0)) thì ma trận trở thành:\\\n",
    "[\\\n",
    "    [X,99,99],\\\n",
    "    [99,99,99],\\\n",
    "    [99,99,99]\\\n",
    "]\\\n",
    "nếu phía o nhập ((0,0)) thì yêu cầu nhập lại và nếu không thì điền vào ma trận \\\n",
    "nếu ai đó có 3 ô liên tiếp thì dừng trò chơi \n",
    "\n"
   ]
  },
  {
   "cell_type": "code",
   "execution_count": 4,
   "id": "805d867c",
   "metadata": {},
   "outputs": [
    {
     "name": "stdout",
     "output_type": "stream",
     "text": [
      "99 | 99 | 99\n",
      "---------\n",
      "99 | 99 | 99\n",
      "---------\n",
      "99 | 99 | 99\n",
      "---------\n",
      "Lượt của người chơi X\n",
      "99 | 99 | 99\n",
      "---------\n",
      "99 | X | 99\n",
      "---------\n",
      "99 | 99 | 99\n",
      "---------\n",
      "Lượt của người chơi O\n",
      "99 | 99 | 99\n",
      "---------\n",
      "99 | X | 99\n",
      "---------\n",
      "99 | O | 99\n",
      "---------\n",
      "Lượt của người chơi X\n",
      "99 | 99 | 99\n",
      "---------\n",
      "99 | X | X\n",
      "---------\n",
      "99 | O | 99\n",
      "---------\n",
      "Lượt của người chơi O\n",
      "Đầu vào không hợp lệ, vui lòng nhập hai số cách nhau bởi dấu cách.\n",
      "99 | 99 | 99\n",
      "---------\n",
      "99 | X | X\n",
      "---------\n",
      "99 | O | 99\n",
      "---------\n",
      "Lượt của người chơi O\n",
      "Nước đi không hợp lệ, thử lại.\n",
      "99 | 99 | 99\n",
      "---------\n",
      "99 | X | X\n",
      "---------\n",
      "99 | O | 99\n",
      "---------\n",
      "Lượt của người chơi O\n",
      "99 | 99 | 99\n",
      "---------\n",
      "99 | X | X\n",
      "---------\n",
      "99 | O | O\n",
      "---------\n",
      "Lượt của người chơi X\n",
      "99 | 99 | 99\n",
      "---------\n",
      "X | X | X\n",
      "---------\n",
      "99 | O | O\n",
      "---------\n",
      "Người chơi X thắng!\n"
     ]
    }
   ],
   "source": [
    "def in_ban_co(ban_co):\n",
    "    for hang in ban_co:\n",
    "        print(\" | \".join(hang))\n",
    "        print(\"-\" * 9)\n",
    "\n",
    "def kiem_tra_nguoi_thang(ban_co, nguoi_choi):\n",
    "    # Kiểm tra hàng, cột và đường chéo\n",
    "    for i in range(3):\n",
    "        if all([o == nguoi_choi for o in ban_co[i]]):\n",
    "            return True\n",
    "        if all([ban_co[j][i] == nguoi_choi for j in range(3)]):\n",
    "            return True\n",
    "    if all([ban_co[i][i] == nguoi_choi for i in range(3)]) or all([ban_co[i][2-i] == nguoi_choi for i in range(3)]):\n",
    "        return True\n",
    "    return False\n",
    "\n",
    "def caro():\n",
    "    ban_co = [['99' for _ in range(3)] for _ in range(3)]\n",
    "    nguoi_choi = ['X', 'O']\n",
    "    luot_choi = 0\n",
    "\n",
    "    while True:\n",
    "        in_ban_co(ban_co)\n",
    "        nguoi_hien_tai = nguoi_choi[luot_choi % 2]\n",
    "        print(f\"Lượt của người chơi {nguoi_hien_tai}\")\n",
    "        try:\n",
    "            hang, cot = map(int, input(\"Nhập hàng và cột (0, 1, hoặc 2): \").split())\n",
    "        except ValueError:\n",
    "            print(\"Đầu vào không hợp lệ, vui lòng nhập hai số cách nhau bởi dấu cách.\")\n",
    "            continue\n",
    "\n",
    "        if hang not in range(3) or cot not in range(3):\n",
    "            print(\"Chỉ số không hợp lệ, vui lòng nhập lại.\")\n",
    "            continue\n",
    "\n",
    "        if ban_co[hang][cot] != '99':\n",
    "            print(\"Nước đi không hợp lệ, thử lại.\")\n",
    "            continue\n",
    "\n",
    "        ban_co[hang][cot] = nguoi_hien_tai\n",
    "\n",
    "        if kiem_tra_nguoi_thang(ban_co, nguoi_hien_tai):\n",
    "            in_ban_co(ban_co)\n",
    "            print(f\"Người chơi {nguoi_hien_tai} thắng!\")\n",
    "            break\n",
    "\n",
    "        if all(o != '99' for hang in ban_co for o in hang):\n",
    "            in_ban_co(ban_co)\n",
    "            print(\"Hòa!\")\n",
    "            break\n",
    "\n",
    "        luot_choi += 1\n",
    "\n",
    "caro()\n"
   ]
  },
  {
   "cell_type": "markdown",
   "id": "4df50129",
   "metadata": {},
   "source": [
    "cho ma trận :\\\n",
    "1: lấy 4,5,6\\\n",
    "2: lấy 3,5\\\n",
    "3: lấy 3,4\\\n",
    "lấy 9,6,3\n"
   ]
  },
  {
   "cell_type": "code",
   "execution_count": 5,
   "id": "7b04dfb9",
   "metadata": {},
   "outputs": [
    {
     "data": {
      "text/plain": [
       "array([[1, 2, 3],\n",
       "       [4, 5, 6],\n",
       "       [7, 8, 9]])"
      ]
     },
     "execution_count": 5,
     "metadata": {},
     "output_type": "execute_result"
    }
   ],
   "source": [
    "x=[\n",
    "    [1,2,3],\n",
    "    [4,5,6],\n",
    "    [7,8,9]\n",
    "]\n",
    "y = np.array(x)\n",
    "y"
   ]
  },
  {
   "cell_type": "code",
   "execution_count": 4,
   "id": "89baa4d9",
   "metadata": {},
   "outputs": [
    {
     "data": {
      "text/plain": [
       "array([4, 5, 6])"
      ]
     },
     "execution_count": 4,
     "metadata": {},
     "output_type": "execute_result"
    }
   ],
   "source": [
    "#1: lấy 4,5,6\n",
    "y[1]"
   ]
  },
  {
   "cell_type": "code",
   "execution_count": 6,
   "id": "c971651d",
   "metadata": {},
   "outputs": [
    {
     "data": {
      "text/plain": [
       "array([2, 5])"
      ]
     },
     "execution_count": 6,
     "metadata": {},
     "output_type": "execute_result"
    }
   ],
   "source": [
    "#2: lấy 2,5\n",
    "y[[0, 1], [1,1]]"
   ]
  },
  {
   "cell_type": "code",
   "execution_count": 7,
   "id": "1b978414",
   "metadata": {},
   "outputs": [
    {
     "data": {
      "text/plain": [
       "array([3, 4])"
      ]
     },
     "execution_count": 7,
     "metadata": {},
     "output_type": "execute_result"
    }
   ],
   "source": [
    "#3: lấy 3,4\n",
    "y[[0, 1], [2,0]]"
   ]
  },
  {
   "cell_type": "code",
   "execution_count": 8,
   "id": "4de7a428",
   "metadata": {},
   "outputs": [
    {
     "data": {
      "text/plain": [
       "array([9, 6, 3])"
      ]
     },
     "execution_count": 8,
     "metadata": {},
     "output_type": "execute_result"
    }
   ],
   "source": [
    "#lấy 9,6,3\n",
    "y[:3,-1][::-1]\n",
    "y[::-1,2]"
   ]
  },
  {
   "cell_type": "code",
   "execution_count": null,
   "id": "1f115b9b",
   "metadata": {},
   "outputs": [
    {
     "data": {
      "text/plain": [
       "array([ 1,  2,  3,  4,  5,  6,  7,  8,  9, 10])"
      ]
     },
     "execution_count": 9,
     "metadata": {},
     "output_type": "execute_result"
    }
   ],
   "source": [
    "z=[1,2,3,4,5,6,7,8,9,10]\n",
    "\n",
    "q=np.array(z)\n",
    "q"
   ]
  },
  {
   "cell_type": "code",
   "execution_count": 11,
   "id": "ac21c1c6",
   "metadata": {},
   "outputs": [
    {
     "data": {
      "text/plain": [
       "[2, 4, 6, 8, 10]"
      ]
     },
     "execution_count": 11,
     "metadata": {},
     "output_type": "execute_result"
    }
   ],
   "source": [
    "#lay ra cac phan tu mang chan\n",
    "q= [num for num in z if num%2==0]\n",
    "q"
   ]
  },
  {
   "cell_type": "code",
   "execution_count": 12,
   "id": "a95c3364",
   "metadata": {},
   "outputs": [
    {
     "data": {
      "text/plain": [
       "array([[1., 1., 1.],\n",
       "       [1., 1., 1.],\n",
       "       [1., 1., 1.]])"
      ]
     },
     "execution_count": 12,
     "metadata": {},
     "output_type": "execute_result"
    }
   ],
   "source": [
    "np.ones((3,3))"
   ]
  },
  {
   "cell_type": "code",
   "execution_count": 13,
   "id": "732d1386",
   "metadata": {},
   "outputs": [
    {
     "data": {
      "text/plain": [
       "(3,)"
      ]
     },
     "execution_count": 13,
     "metadata": {},
     "output_type": "execute_result"
    }
   ],
   "source": [
    "x=np.arange(3)\n",
    "x.shape"
   ]
  },
  {
   "cell_type": "code",
   "execution_count": 14,
   "id": "33e90771",
   "metadata": {},
   "outputs": [
    {
     "data": {
      "text/plain": [
       "array([[1., 2., 3.],\n",
       "       [1., 2., 3.],\n",
       "       [1., 2., 3.]])"
      ]
     },
     "execution_count": 14,
     "metadata": {},
     "output_type": "execute_result"
    }
   ],
   "source": [
    "np.ones((3,3))+np.arange(3)"
   ]
  },
  {
   "cell_type": "code",
   "execution_count": 15,
   "id": "b9a1a6f6",
   "metadata": {},
   "outputs": [
    {
     "data": {
      "text/plain": [
       "array([[0],\n",
       "       [1],\n",
       "       [2]])"
      ]
     },
     "execution_count": 15,
     "metadata": {},
     "output_type": "execute_result"
    }
   ],
   "source": [
    "x.reshape ((3,1))"
   ]
  },
  {
   "cell_type": "code",
   "execution_count": 16,
   "id": "0466a79e",
   "metadata": {},
   "outputs": [
    {
     "data": {
      "text/plain": [
       "array([[ 1,  3,  5],\n",
       "       [ 4,  6,  8],\n",
       "       [ 7,  9, 11]])"
      ]
     },
     "execution_count": 16,
     "metadata": {},
     "output_type": "execute_result"
    }
   ],
   "source": [
    "x+y"
   ]
  },
  {
   "cell_type": "markdown",
   "id": "876c7890-71da-4f64-b2c2-ea2287b2df5a",
   "metadata": {},
   "source": [
    "tạo một mảng numpy có kích thước 150x5\\\n",
    "hãy tưởng tượng mảng này chứa 150 mẫu về chiều cao, cân nặng , tuổi, lương, gpa của sinh viên Văn Lang\\\n",
    "chia mảng 4 cột đầu tiên thành 1 biến có tên là x và cột cuối cùng là y\\\n",
    "chia x thành x_train và x_test chứa 70% dữ liệu và chia y thành Y_train và Y_test, trong đó y_train chứa 70% dữ liệu .\\\n",
    "tạo 10 tập dữ liệu không chồng chéo của x_train"
   ]
  },
  {
   "cell_type": "code",
   "execution_count": 60,
   "id": "f254da54-800c-47d4-bbc0-ab511cbbcccd",
   "metadata": {},
   "outputs": [
    {
     "data": {
      "text/plain": [
       "(150, 5)"
      ]
     },
     "execution_count": 60,
     "metadata": {},
     "output_type": "execute_result"
    }
   ],
   "source": [
    "data=np.random.uniform(0,10,(150,5))\n",
    "data.shape"
   ]
  },
  {
   "cell_type": "code",
   "execution_count": 61,
   "id": "b2286442-eb8f-46fd-8a32-7095fb946cfb",
   "metadata": {},
   "outputs": [
    {
     "data": {
      "text/plain": [
       "((150, 4), (150,))"
      ]
     },
     "execution_count": 61,
     "metadata": {},
     "output_type": "execute_result"
    }
   ],
   "source": [
    "x= data[:,:-1]\n",
    "y=data[:,-1]\n",
    "x.shape, y.shape"
   ]
  },
  {
   "cell_type": "code",
   "execution_count": 63,
   "id": "3d80ea9a-0c8d-4cfe-91dc-2542e68692b5",
   "metadata": {},
   "outputs": [
    {
     "data": {
      "text/plain": [
       "150"
      ]
     },
     "execution_count": 63,
     "metadata": {},
     "output_type": "execute_result"
    }
   ],
   "source": [
    "dataset_size=x.shape[0]\n",
    "dataset_size"
   ]
  },
  {
   "cell_type": "code",
   "execution_count": 64,
   "id": "78a04cdb-3159-46db-9617-dae6f00a8ed4",
   "metadata": {},
   "outputs": [
    {
     "data": {
      "text/plain": [
       "105"
      ]
     },
     "execution_count": 64,
     "metadata": {},
     "output_type": "execute_result"
    }
   ],
   "source": [
    "train_size=int(0.7*dataset_size)\n",
    "train_size"
   ]
  },
  {
   "cell_type": "code",
   "execution_count": null,
   "id": "445dc701-303a-49c1-86a8-b52cc58204f5",
   "metadata": {},
   "outputs": [
    {
     "data": {
      "text/plain": [
       "((105, 4), (45, 4))"
      ]
     },
     "execution_count": 66,
     "metadata": {},
     "output_type": "execute_result"
    }
   ],
   "source": [
    "xtrain= x[:train_size]\n",
    "xtest= x[train_size:]\n",
    "\n",
    "xtrain.shape, xtest.shape"
   ]
  },
  {
   "cell_type": "code",
   "execution_count": 68,
   "id": "f4a2c317-4dee-4163-aead-b1601bcd1f5d",
   "metadata": {},
   "outputs": [
    {
     "data": {
      "text/plain": [
       "10"
      ]
     },
     "execution_count": 68,
     "metadata": {},
     "output_type": "execute_result"
    }
   ],
   "source": [
    "split= xtrain.shape[0]//10\n",
    "split"
   ]
  },
  {
   "cell_type": "code",
   "execution_count": 74,
   "id": "dd93fd4e-2cb8-4b3b-9dc9-3f35d5f99f12",
   "metadata": {},
   "outputs": [
    {
     "name": "stdout",
     "output_type": "stream",
     "text": [
      "(10, 4)\n",
      "(10, 4)\n",
      "(10, 4)\n",
      "(10, 4)\n",
      "(10, 4)\n",
      "(10, 4)\n",
      "(10, 4)\n",
      "(10, 4)\n",
      "(10, 4)\n",
      "(10, 4)\n",
      "(5, 4)\n"
     ]
    }
   ],
   "source": [
    "for counter in range (0,xtrain.shape [0], split):\n",
    "    print(xtrain[counter: counter + split].shape)"
   ]
  },
  {
   "cell_type": "markdown",
   "id": "6072bf19",
   "metadata": {},
   "source": [
    "**input**\n",
    "- mảng numpy chứa 150 mẫu về chiều cao, cân nặng , tuổi, lương, gpa của sinh viên Văn Lang.\n",
    "- 4 cột đầu tiên thành 1 biến có tên là x và cột cuối cùng là y x(150,4) y(150,1).\n",
    "- Chia dữ liệu thành tập train (70%) và test (30%).\n",
    "- Chia x_train thành 10 tập dữ liệu con không chồng chéo.\n",
    "\n",
    "\n",
    "\n"
   ]
  },
  {
   "cell_type": "markdown",
   "id": "ccf31fe6",
   "metadata": {},
   "source": [
    "**output**\n",
    "- mảng numpy được tạo với kích thước 150*5.\n",
    "- Kích thước của x_train: (105, 4) (chứa 105 mẫu, 4 đặc trưng).\n",
    "- Kích thước của x_test: (45, 4) (chứa 45 mẫu, 4 đặc trưng).\n",
    "- Tổng số tập dữ liệu con trong x_train: 10 tập.\n",
    "- Mỗi tập dữ liệu con trong x_train có kích thước: (10, 4) và dư 1 tập có giá trị (5, 4 )."
   ]
  },
  {
   "cell_type": "markdown",
   "id": "c89398e6",
   "metadata": {},
   "source": [
    "**nhận xét**\n",
    "- Dữ liệu được chia theo tỷ lệ 70%-30% đảm bảo tập train lớn hơn tập test, giúp mô hình học tốt hơn.\n",
    "- xtrain được chia thành 10 tập con có kích thước (10, 4) phù hợp cho một số kỹ thuật trong học máy giúp kiểm tra mô hình tốt hơn.\n",
    "- vì 10 tập dữ liệu không chồng chéo nên các tập con của xtrain không bị chồng lấn, đảm bảo tính độc lập khi sử dụng trong huấn luyện mô hình.\n",
    "\n"
   ]
  }
 ],
 "metadata": {
  "kernelspec": {
   "display_name": "Python 3",
   "language": "python",
   "name": "python3"
  },
  "language_info": {
   "codemirror_mode": {
    "name": "ipython",
    "version": 3
   },
   "file_extension": ".py",
   "mimetype": "text/x-python",
   "name": "python",
   "nbconvert_exporter": "python",
   "pygments_lexer": "ipython3",
   "version": "3.13.1"
  }
 },
 "nbformat": 4,
 "nbformat_minor": 5
}
